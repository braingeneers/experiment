{
 "cells": [
  {
   "cell_type": "code",
   "execution_count": 1,
   "metadata": {},
   "outputs": [],
   "source": [
    "import os\n",
    "import array\n",
    "import numpy as np"
   ]
  },
  {
   "cell_type": "code",
   "execution_count": 2,
   "metadata": {},
   "outputs": [],
   "source": [
    "# Hengen lab neuraltoolkit code to read an e-cube file\n",
    "\n",
    "# f = open(name, 'rb')\n",
    "# tr = np.fromfile(f, dtype=np.uint64, count=1)\n",
    "# dr = np.fromfile(f, dtype=np.int16,  count=-1)\n",
    "# length = np.int64(np.size(dr)/number_of_channels)\n",
    "# drr = np.reshape(dr, [number_of_channels, length], order='F')\n",
    "# f.close()\n",
    "# return tr, drr"
   ]
  },
  {
   "cell_type": "code",
   "execution_count": 3,
   "metadata": {},
   "outputs": [
    {
     "data": {
      "text/plain": [
       "[-104, -1288, -1052, -432, -284, -800, 60, -4248]"
      ]
     },
     "execution_count": 3,
     "metadata": {},
     "output_type": "execute_result"
    }
   ],
   "source": [
    "# Read the first few integers of the file as raw ints with no abstractions in the way\n",
    "data = array.array(\"h\")  # signed short\n",
    "\n",
    "with open(\"/public/groups/braingeneers/staging/original/Carbon_EAB27_Headstages_64_Channels_int16_2018-12-28_14-55-21.bin\", \"rb\") as fd:\n",
    "    fd.seek(8, os.SEEK_SET)  # Skip timestamp\n",
    "    data.fromfile(fd, 8)\n",
    "    \n",
    "data.tolist()"
   ]
  },
  {
   "cell_type": "code",
   "execution_count": 4,
   "metadata": {},
   "outputs": [
    {
     "name": "stdout",
     "output_type": "stream",
     "text": [
      "[ -104 -1288 -1052  -432  -284  -800    60 -4248]\n",
      "  C_CONTIGUOUS : True\n",
      "  F_CONTIGUOUS : True\n",
      "  OWNDATA : True\n",
      "  WRITEABLE : True\n",
      "  ALIGNED : True\n",
      "  WRITEBACKIFCOPY : False\n",
      "  UPDATEIFCOPY : False\n"
     ]
    }
   ],
   "source": [
    "# Read in raw binary data from Hengen lab and interpret as they do in the neuraltoolkit\n",
    "with open(\"/public/groups/braingeneers/staging/original/Carbon_EAB27_Headstages_64_Channels_int16_2018-12-28_14-55-21.bin\") as fd:\n",
    "    fd.seek(8, os.SEEK_SET)\n",
    "    raw = np.fromfile(fd, dtype=np.int16)\n",
    "    \n",
    "print(raw[0:8])\n",
    "print(raw.flags)"
   ]
  },
  {
   "cell_type": "code",
   "execution_count": 5,
   "metadata": {},
   "outputs": [
    {
     "name": "stdout",
     "output_type": "stream",
     "text": [
      "(64, 7500584)\n",
      "  C_CONTIGUOUS : False\n",
      "  F_CONTIGUOUS : True\n",
      "  OWNDATA : False\n",
      "  WRITEABLE : True\n",
      "  ALIGNED : True\n",
      "  WRITEBACKIFCOPY : False\n",
      "  UPDATEIFCOPY : False\n",
      "[ -104 -1288 -1052  -432  -284  -800    60 -4248   100 -1864  -692  -480\n",
      "   136  -616  -672 -1056 -5312  -468  -584 -1024   840  -568  -532  -488\n",
      "  -252  -856  -488  -856   -44  -268 -1056 -1008   -60  -536    56  -412\n",
      "   -68 -1368  -712  -488  -192 -1128  -672  -856  -608 -1080  -472  -532\n",
      "  -808    -8  -328  -192  -824  -420 -1352  -304  -508 -1348   304  -836\n",
      " -3612  -740  -708 -1112]\n"
     ]
    }
   ],
   "source": [
    "# Reshape as per the neuraltoolkit code that Hengen lab uses. - Note F_CONTIGUOUS\n",
    "column_major = raw.reshape([64, -1], order=\"F\")\n",
    "print(column_major.shape)\n",
    "print(column_major.flags)\n",
    "print(column_major[:, 0])"
   ]
  },
  {
   "cell_type": "code",
   "execution_count": 6,
   "metadata": {},
   "outputs": [
    {
     "name": "stdout",
     "output_type": "stream",
     "text": [
      "(7500584, 64)\n",
      "  C_CONTIGUOUS : True\n",
      "  F_CONTIGUOUS : False\n",
      "  OWNDATA : False\n",
      "  WRITEABLE : True\n",
      "  ALIGNED : True\n",
      "  WRITEBACKIFCOPY : False\n",
      "  UPDATEIFCOPY : False\n",
      "[ -104 -1288 -1052  -432  -284  -800    60 -4248   100 -1864  -692  -480\n",
      "   136  -616  -672 -1056 -5312  -468  -584 -1024   840  -568  -532  -488\n",
      "  -252  -856  -488  -856   -44  -268 -1056 -1008   -60  -536    56  -412\n",
      "   -68 -1368  -712  -488  -192 -1128  -672  -856  -608 -1080  -472  -532\n",
      "  -808    -8  -328  -192  -824  -420 -1352  -304  -508 -1348   304  -836\n",
      " -3612  -740  -708 -1112]\n"
     ]
    }
   ],
   "source": [
    "# Reshape using \"C\" interpretation - note C_CONTIGUOUS\n",
    "row_major = raw.reshape([-1, 64], order=\"C\")\n",
    "print(row_major.shape)\n",
    "print(row_major.flags)\n",
    "print(row_major[0, :])"
   ]
  },
  {
   "cell_type": "code",
   "execution_count": 7,
   "metadata": {},
   "outputs": [
    {
     "name": "stdout",
     "output_type": "stream",
     "text": [
      "\u001b[33m  WARNING: Did not find branch or tag 'e37f639', assuming revision or ref.\u001b[0m\n",
      "\u001b[33mWARNING: You are using pip version 19.1.1, however version 19.2.1 is available.\n",
      "You should consider upgrading via the 'pip install --upgrade pip' command.\u001b[0m\n"
     ]
    }
   ],
   "source": [
    "# Install the braingeneers python package - force upgrade in case another notebook has somethign open\n",
    "!pip install --user --quiet --upgrade git+https://github.com/braingeneers/braingeneerspy.git@e37f639\n",
    "import braingeneers.datasets"
   ]
  },
  {
   "cell_type": "code",
   "execution_count": 9,
   "metadata": {},
   "outputs": [
    {
     "name": "stdout",
     "output_type": "stream",
     "text": [
      "Mouse recordings from the Hengen lab using various probe types\n",
      "Mouse recording from Hengen lab using carbon probe\n"
     ]
    }
   ],
   "source": [
    "batch_uuid = \"2019-08-Hengen-Mouse\"\n",
    "batch = braingeneers.datasets.load_batch(batch_uuid)\n",
    "print(batch[\"notes\"])\n",
    "\n",
    "experiment = braingeneers.datasets.load_experiment(batch_uuid, 0)\n",
    "print(experiment[\"notes\"])"
   ]
  },
  {
   "cell_type": "code",
   "execution_count": 10,
   "metadata": {},
   "outputs": [],
   "source": [
    "block, t, fs = braingeneers.datasets.load_blocks(batch_uuid, experiment_num=0, start=0, stop=1)"
   ]
  },
  {
   "cell_type": "code",
   "execution_count": 11,
   "metadata": {},
   "outputs": [
    {
     "data": {
      "text/plain": [
       "array([ -104., -1288., -1052.,  -432.,  -284.,  -800.,    60., -4248.,\n",
       "         100., -1864.,  -692.,  -480.,   136.,  -616.,  -672., -1056.,\n",
       "       -5312.,  -468.,  -584., -1024.,   840.,  -568.,  -532.,  -488.,\n",
       "        -252.,  -856.,  -488.,  -856.,   -44.,  -268., -1056., -1008.,\n",
       "         -60.,  -536.,    56.,  -412.,   -68., -1368.,  -712.,  -488.,\n",
       "        -192., -1128.,  -672.,  -856.,  -608., -1080.,  -472.,  -532.,\n",
       "        -808.,    -8.,  -328.,  -192.,  -824.,  -420., -1352.,  -304.,\n",
       "        -508., -1348.,   304.,  -836., -3612.,  -740.,  -708., -1112.],\n",
       "      dtype=float32)"
      ]
     },
     "execution_count": 11,
     "metadata": {},
     "output_type": "execute_result"
    }
   ],
   "source": [
    "block[0, :] / experiment[\"scaler\"]"
   ]
  }
 ],
 "metadata": {
  "kernelspec": {
   "display_name": "Python 3",
   "language": "python",
   "name": "python3"
  },
  "language_info": {
   "codemirror_mode": {
    "name": "ipython",
    "version": 3
   },
   "file_extension": ".py",
   "mimetype": "text/x-python",
   "name": "python",
   "nbconvert_exporter": "python",
   "pygments_lexer": "ipython3",
   "version": "3.6.7"
  }
 },
 "nbformat": 4,
 "nbformat_minor": 2
}
