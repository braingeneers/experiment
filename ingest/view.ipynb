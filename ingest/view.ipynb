{
 "cells": [
  {
   "cell_type": "markdown",
   "metadata": {
    "colab_type": "text",
    "id": "view-in-github"
   },
   "source": [
    "<a href=\"https://colab.research.google.com/github/braingeneers/experiment/blob/master/ingest/view.ipynb\" target=\"_parent\"><img src=\"https://colab.research.google.com/assets/colab-badge.svg\" alt=\"Open In Colab\"/></a>"
   ]
  },
  {
   "cell_type": "markdown",
   "metadata": {
    "colab_type": "text",
    "id": "5ChYd4Wrfh2e"
   },
   "source": [
    "# View\n",
    "Basic notebook to load MEA data that has been converted to .npy and display"
   ]
  },
  {
   "cell_type": "code",
   "execution_count": 3,
   "metadata": {
    "colab": {},
    "colab_type": "code",
    "id": "urXnE7wLZs_d"
   },
   "outputs": [],
   "source": [
    "import requests\n",
    "import numpy as np\n",
    "import matplotlib.pyplot as plt"
   ]
  },
  {
   "cell_type": "code",
   "execution_count": 10,
   "metadata": {},
   "outputs": [],
   "source": [
    "# Read the metadata for a single experiment\n",
    "metadata = requests.get(\"https://s3.nautilus.optiputer.net/braingeneers/mea/ucsf/11-12-2018/organoid-3/recording_4_wt_40mM-KCl_181208_142127.json\").json()"
   ]
  },
  {
   "cell_type": "code",
   "execution_count": 11,
   "metadata": {
    "colab": {},
    "colab_type": "code",
    "id": "Xr2Yjh38SS9v"
   },
   "outputs": [],
   "source": [
    "# Read a single numpy file in directly from S3\n",
    "with np.DataSource().open(\"https://s3.nautilus.optiputer.net/braingeneers/mea/ucsf/11-12-2018/organoid-3/recording_4_wt_40mM-KCl_181208_142127.npy\", \"rb\") as f:\n",
    "    signal = np.load(f)"
   ]
  },
  {
   "cell_type": "code",
   "execution_count": 6,
   "metadata": {
    "colab": {
     "base_uri": "https://localhost:8080/",
     "height": 50
    },
    "colab_type": "code",
    "id": "dBPwBaj9TdT8",
    "outputId": "9ed82e7b-6910-432e-af34-fa7373bea422"
   },
   "outputs": [
    {
     "name": "stdout",
     "output_type": "stream",
     "text": [
      "Original file: mea/ucsf/11-12-2018/organoid 3/recording_4_wt_40mM KCl_181208_142127.rhd\n",
      "16 channels with 1200240 samples each\n"
     ]
    }
   ],
   "source": [
    "print(\"Original file: {}\".format(metadata[\"source_file_path\"]))\n",
    "print(\"{} channels with {} samples each\".format(*signal.shape))"
   ]
  },
  {
   "cell_type": "code",
   "execution_count": 7,
   "metadata": {
    "colab": {
     "base_uri": "https://localhost:8080/",
     "height": 347
    },
    "colab_type": "code",
    "id": "KbHaRSoxWdHW",
    "outputId": "d5bc584b-8f6f-4fa5-ae7c-db943403b670"
   },
   "outputs": [
    {
     "data": {
      "image/png": "[encoded data removed]",
      "text/plain": [
       "<Figure size 432x288 with 1 Axes>"
      ]
     },
     "metadata": {
      "needs_background": "light"
     },
     "output_type": "display_data"
    }
   ],
   "source": [
    "plt.plot(signal[0])\n",
    "plt.show()"
   ]
  },
  {
   "cell_type": "code",
   "execution_count": 8,
   "metadata": {
    "colab": {
     "base_uri": "https://localhost:8080/",
     "height": 347
    },
    "colab_type": "code",
    "id": "fPYimB92UT0x",
    "outputId": "1d8568f7-4b0e-44c1-e0c0-7175502f6ef0"
   },
   "outputs": [
    {
     "data": {
      "image/png": "[encoded data removed]",
      "text/plain": [
       "<Figure size 432x288 with 1 Axes>"
      ]
     },
     "metadata": {
      "needs_background": "light"
     },
     "output_type": "display_data"
    }
   ],
   "source": [
    "# Convert from 16 bit unsigned int to signed floating point array as per Intam sample code\n",
    "channels = np.multiply(0.195, (signal.astype(np.int32) - 32768))\n",
    "plt.plot(channels[0])\n",
    "plt.show()"
   ]
  },
  {
   "cell_type": "code",
   "execution_count": 9,
   "metadata": {
    "colab": {
     "base_uri": "https://localhost:8080/",
     "height": 5446
    },
    "colab_type": "code",
    "id": "PZOSUWHOaTTR",
    "outputId": "9d20e8b8-7c5b-4ba1-b2da-6895897b67e6"
   },
   "outputs": [
    {
     "name": "stdout",
     "output_type": "stream",
     "text": [
      "All these metadata...\n"
     ]
    },
    {
     "data": {
      "text/plain": [
       "{'amplifier_channels': [{'board_stream': 0,\n",
       "   'chip_channel': 8,\n",
       "   'custom_channel_name': 'C-008',\n",
       "   'custom_order': 8,\n",
       "   'electrode_impedance_magnitude': 179372.65625,\n",
       "   'electrode_impedance_phase': -52.067115783691406,\n",
       "   'native_channel_name': 'C-008',\n",
       "   'native_order': 8,\n",
       "   'port_name': 'Port C',\n",
       "   'port_number': 3,\n",
       "   'port_prefix': 'C'},\n",
       "  {'board_stream': 0,\n",
       "   'chip_channel': 9,\n",
       "   'custom_channel_name': 'C-009',\n",
       "   'custom_order': 9,\n",
       "   'electrode_impedance_magnitude': 186670.125,\n",
       "   'electrode_impedance_phase': -31.742971420288086,\n",
       "   'native_channel_name': 'C-009',\n",
       "   'native_order': 9,\n",
       "   'port_name': 'Port C',\n",
       "   'port_number': 3,\n",
       "   'port_prefix': 'C'},\n",
       "  {'board_stream': 0,\n",
       "   'chip_channel': 10,\n",
       "   'custom_channel_name': 'C-010',\n",
       "   'custom_order': 10,\n",
       "   'electrode_impedance_magnitude': 212046.609375,\n",
       "   'electrode_impedance_phase': -58.726314544677734,\n",
       "   'native_channel_name': 'C-010',\n",
       "   'native_order': 10,\n",
       "   'port_name': 'Port C',\n",
       "   'port_number': 3,\n",
       "   'port_prefix': 'C'},\n",
       "  {'board_stream': 0,\n",
       "   'chip_channel': 11,\n",
       "   'custom_channel_name': 'C-011',\n",
       "   'custom_order': 11,\n",
       "   'electrode_impedance_magnitude': 17237852.0,\n",
       "   'electrode_impedance_phase': -79.06414794921875,\n",
       "   'native_channel_name': 'C-011',\n",
       "   'native_order': 11,\n",
       "   'port_name': 'Port C',\n",
       "   'port_number': 3,\n",
       "   'port_prefix': 'C'},\n",
       "  {'board_stream': 0,\n",
       "   'chip_channel': 12,\n",
       "   'custom_channel_name': 'C-012',\n",
       "   'custom_order': 12,\n",
       "   'electrode_impedance_magnitude': 209830.734375,\n",
       "   'electrode_impedance_phase': -28.6617488861084,\n",
       "   'native_channel_name': 'C-012',\n",
       "   'native_order': 12,\n",
       "   'port_name': 'Port C',\n",
       "   'port_number': 3,\n",
       "   'port_prefix': 'C'},\n",
       "  {'board_stream': 0,\n",
       "   'chip_channel': 13,\n",
       "   'custom_channel_name': 'C-013',\n",
       "   'custom_order': 13,\n",
       "   'electrode_impedance_magnitude': 9785475.0,\n",
       "   'electrode_impedance_phase': -62.608116149902344,\n",
       "   'native_channel_name': 'C-013',\n",
       "   'native_order': 13,\n",
       "   'port_name': 'Port C',\n",
       "   'port_number': 3,\n",
       "   'port_prefix': 'C'},\n",
       "  {'board_stream': 0,\n",
       "   'chip_channel': 14,\n",
       "   'custom_channel_name': 'C-014',\n",
       "   'custom_order': 14,\n",
       "   'electrode_impedance_magnitude': 202608.3125,\n",
       "   'electrode_impedance_phase': -29.460420608520508,\n",
       "   'native_channel_name': 'C-014',\n",
       "   'native_order': 14,\n",
       "   'port_name': 'Port C',\n",
       "   'port_number': 3,\n",
       "   'port_prefix': 'C'},\n",
       "  {'board_stream': 0,\n",
       "   'chip_channel': 15,\n",
       "   'custom_channel_name': 'C-015',\n",
       "   'custom_order': 15,\n",
       "   'electrode_impedance_magnitude': 141315.34375,\n",
       "   'electrode_impedance_phase': -34.50967025756836,\n",
       "   'native_channel_name': 'C-015',\n",
       "   'native_order': 15,\n",
       "   'port_name': 'Port C',\n",
       "   'port_number': 3,\n",
       "   'port_prefix': 'C'},\n",
       "  {'board_stream': 0,\n",
       "   'chip_channel': 16,\n",
       "   'custom_channel_name': 'C-016',\n",
       "   'custom_order': 16,\n",
       "   'electrode_impedance_magnitude': 230121.109375,\n",
       "   'electrode_impedance_phase': -29.005949020385742,\n",
       "   'native_channel_name': 'C-016',\n",
       "   'native_order': 16,\n",
       "   'port_name': 'Port C',\n",
       "   'port_number': 3,\n",
       "   'port_prefix': 'C'},\n",
       "  {'board_stream': 0,\n",
       "   'chip_channel': 17,\n",
       "   'custom_channel_name': 'C-017',\n",
       "   'custom_order': 17,\n",
       "   'electrode_impedance_magnitude': 99872.390625,\n",
       "   'electrode_impedance_phase': -39.59890365600586,\n",
       "   'native_channel_name': 'C-017',\n",
       "   'native_order': 17,\n",
       "   'port_name': 'Port C',\n",
       "   'port_number': 3,\n",
       "   'port_prefix': 'C'},\n",
       "  {'board_stream': 0,\n",
       "   'chip_channel': 18,\n",
       "   'custom_channel_name': 'C-018',\n",
       "   'custom_order': 18,\n",
       "   'electrode_impedance_magnitude': 292921.40625,\n",
       "   'electrode_impedance_phase': -26.56610107421875,\n",
       "   'native_channel_name': 'C-018',\n",
       "   'native_order': 18,\n",
       "   'port_name': 'Port C',\n",
       "   'port_number': 3,\n",
       "   'port_prefix': 'C'},\n",
       "  {'board_stream': 0,\n",
       "   'chip_channel': 19,\n",
       "   'custom_channel_name': 'C-019',\n",
       "   'custom_order': 19,\n",
       "   'electrode_impedance_magnitude': 121178.3203125,\n",
       "   'electrode_impedance_phase': -38.93301773071289,\n",
       "   'native_channel_name': 'C-019',\n",
       "   'native_order': 19,\n",
       "   'port_name': 'Port C',\n",
       "   'port_number': 3,\n",
       "   'port_prefix': 'C'},\n",
       "  {'board_stream': 0,\n",
       "   'chip_channel': 20,\n",
       "   'custom_channel_name': 'C-020',\n",
       "   'custom_order': 20,\n",
       "   'electrode_impedance_magnitude': 19443324.0,\n",
       "   'electrode_impedance_phase': -74.2311019897461,\n",
       "   'native_channel_name': 'C-020',\n",
       "   'native_order': 20,\n",
       "   'port_name': 'Port C',\n",
       "   'port_number': 3,\n",
       "   'port_prefix': 'C'},\n",
       "  {'board_stream': 0,\n",
       "   'chip_channel': 21,\n",
       "   'custom_channel_name': 'C-021',\n",
       "   'custom_order': 21,\n",
       "   'electrode_impedance_magnitude': 101686.34375,\n",
       "   'electrode_impedance_phase': -37.55549621582031,\n",
       "   'native_channel_name': 'C-021',\n",
       "   'native_order': 21,\n",
       "   'port_name': 'Port C',\n",
       "   'port_number': 3,\n",
       "   'port_prefix': 'C'},\n",
       "  {'board_stream': 0,\n",
       "   'chip_channel': 22,\n",
       "   'custom_channel_name': 'C-022',\n",
       "   'custom_order': 22,\n",
       "   'electrode_impedance_magnitude': 128404.9375,\n",
       "   'electrode_impedance_phase': -47.83992004394531,\n",
       "   'native_channel_name': 'C-022',\n",
       "   'native_order': 22,\n",
       "   'port_name': 'Port C',\n",
       "   'port_number': 3,\n",
       "   'port_prefix': 'C'},\n",
       "  {'board_stream': 0,\n",
       "   'chip_channel': 23,\n",
       "   'custom_channel_name': 'C-023',\n",
       "   'custom_order': 23,\n",
       "   'electrode_impedance_magnitude': 50487536.0,\n",
       "   'electrode_impedance_phase': -57.62107849121094,\n",
       "   'native_channel_name': 'C-023',\n",
       "   'native_order': 23,\n",
       "   'port_name': 'Port C',\n",
       "   'port_number': 3,\n",
       "   'port_prefix': 'C'}],\n",
       " 'frequency_parameters': {'actual_dsp_cutoff_frequency': 0.7772186398506165,\n",
       "  'actual_impedance_test_frequency': 1000.0,\n",
       "  'actual_lower_bandwidth': 0.09452909976243973,\n",
       "  'actual_upper_bandwidth': 7603.76513671875,\n",
       "  'amplifier_sample_rate': 20000.0,\n",
       "  'aux_input_sample_rate': 5000.0,\n",
       "  'board_adc_sample_rate': 20000.0,\n",
       "  'board_dig_in_sample_rate': 20000.0,\n",
       "  'desired_dsp_cutoff_frequency': 1.0,\n",
       "  'desired_impedance_test_frequency': 1000.0,\n",
       "  'desired_lower_bandwidth': 0.10000000149011612,\n",
       "  'desired_upper_bandwidth': 7500.0,\n",
       "  'dsp_enabled': 1,\n",
       "  'notch_filter_frequency': 0,\n",
       "  'supply_voltage_sample_rate': 333.3333333333333},\n",
       " 'notes': {'note1': '', 'note2': '', 'note3': ''},\n",
       " 'source_file_path': 'mea/ucsf/11-12-2018/organoid 3/recording_4_wt_40mM KCl_181208_142127.rhd',\n",
       " 'spike_triggers': [{'digital_edge_polarity': 1,\n",
       "   'digital_trigger_channel': 0,\n",
       "   'voltage_threshold': 10,\n",
       "   'voltage_trigger_mode': 1},\n",
       "  {'digital_edge_polarity': 1,\n",
       "   'digital_trigger_channel': 0,\n",
       "   'voltage_threshold': 15,\n",
       "   'voltage_trigger_mode': 1},\n",
       "  {'digital_edge_polarity': 1,\n",
       "   'digital_trigger_channel': 0,\n",
       "   'voltage_threshold': 15,\n",
       "   'voltage_trigger_mode': 1},\n",
       "  {'digital_edge_polarity': 1,\n",
       "   'digital_trigger_channel': 0,\n",
       "   'voltage_threshold': 15,\n",
       "   'voltage_trigger_mode': 1},\n",
       "  {'digital_edge_polarity': 1,\n",
       "   'digital_trigger_channel': 0,\n",
       "   'voltage_threshold': 15,\n",
       "   'voltage_trigger_mode': 1},\n",
       "  {'digital_edge_polarity': 1,\n",
       "   'digital_trigger_channel': 0,\n",
       "   'voltage_threshold': 45,\n",
       "   'voltage_trigger_mode': 1},\n",
       "  {'digital_edge_polarity': 1,\n",
       "   'digital_trigger_channel': 0,\n",
       "   'voltage_threshold': 15,\n",
       "   'voltage_trigger_mode': 1},\n",
       "  {'digital_edge_polarity': 1,\n",
       "   'digital_trigger_channel': 0,\n",
       "   'voltage_threshold': 20,\n",
       "   'voltage_trigger_mode': 1},\n",
       "  {'digital_edge_polarity': 1,\n",
       "   'digital_trigger_channel': 0,\n",
       "   'voltage_threshold': 0,\n",
       "   'voltage_trigger_mode': 1},\n",
       "  {'digital_edge_polarity': 1,\n",
       "   'digital_trigger_channel': 0,\n",
       "   'voltage_threshold': 0,\n",
       "   'voltage_trigger_mode': 1},\n",
       "  {'digital_edge_polarity': 1,\n",
       "   'digital_trigger_channel': 0,\n",
       "   'voltage_threshold': 20,\n",
       "   'voltage_trigger_mode': 1},\n",
       "  {'digital_edge_polarity': 1,\n",
       "   'digital_trigger_channel': 0,\n",
       "   'voltage_threshold': 15,\n",
       "   'voltage_trigger_mode': 1},\n",
       "  {'digital_edge_polarity': 1,\n",
       "   'digital_trigger_channel': 0,\n",
       "   'voltage_threshold': 0,\n",
       "   'voltage_trigger_mode': 1},\n",
       "  {'digital_edge_polarity': 1,\n",
       "   'digital_trigger_channel': 0,\n",
       "   'voltage_threshold': 0,\n",
       "   'voltage_trigger_mode': 1},\n",
       "  {'digital_edge_polarity': 1,\n",
       "   'digital_trigger_channel': 0,\n",
       "   'voltage_threshold': 30,\n",
       "   'voltage_trigger_mode': 1},\n",
       "  {'digital_edge_polarity': 1,\n",
       "   'digital_trigger_channel': 0,\n",
       "   'voltage_threshold': 0,\n",
       "   'voltage_trigger_mode': 1}],\n",
       " 'supply_voltage_channels': [{'board_stream': 0,\n",
       "   'chip_channel': 0,\n",
       "   'custom_channel_name': 'C-VDD1',\n",
       "   'custom_order': 35,\n",
       "   'electrode_impedance_magnitude': 0.0,\n",
       "   'electrode_impedance_phase': 0.0,\n",
       "   'native_channel_name': 'C-VDD1',\n",
       "   'native_order': 35,\n",
       "   'port_name': 'Port C',\n",
       "   'port_number': 3,\n",
       "   'port_prefix': 'C'}]}"
      ]
     },
     "execution_count": 9,
     "metadata": {},
     "output_type": "execute_result"
    }
   ],
   "source": [
    "print(\"All these metadata...\")\n",
    "metadata"
   ]
  }
 ],
 "metadata": {
  "colab": {
   "include_colab_link": true,
   "name": "view.ipynb",
   "provenance": [],
   "version": "0.3.2"
  },
  "kernelspec": {
   "display_name": "Python 3",
   "language": "python",
   "name": "python3"
  },
  "language_info": {
   "codemirror_mode": {
    "name": "ipython",
    "version": 3
   },
   "file_extension": ".py",
   "mimetype": "text/x-python",
   "name": "python",
   "nbconvert_exporter": "python",
   "pygments_lexer": "ipython3",
   "version": "3.5.2"
  }
 },
 "nbformat": 4,
 "nbformat_minor": 1
}
