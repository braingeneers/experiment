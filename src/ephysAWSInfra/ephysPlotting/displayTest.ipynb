{
 "cells": [
  {
   "cell_type": "code",
   "execution_count": 114,
   "metadata": {},
   "outputs": [],
   "source": [
    "import numpy as np\n",
    "import pandas as pd\n",
    "import array\n",
    "import os\n",
    "from itertools import islice"
   ]
  },
  {
   "cell_type": "code",
   "execution_count": 223,
   "metadata": {},
   "outputs": [],
   "source": []
  },
  {
   "cell_type": "code",
   "execution_count": null,
   "metadata": {},
   "outputs": [],
   "source": []
  },
  {
   "cell_type": "code",
   "execution_count": 231,
   "metadata": {},
   "outputs": [
    {
     "name": "stdout",
     "output_type": "stream",
     "text": [
      "[['31990' '-29003' '31010' ... '-31661' '-30463' '-28603']\n",
      " ['31699' '-29334' '30886' ... '-31869' '-30625' '-28764']\n",
      " ['31241' '-29628' '30758' ... '-32125' '-30627' '-28907']\n",
      " ...\n",
      " ['32211' '-29283' '30633' ... '-31682' '-30865' '-28505']\n",
      " ['31670' '-29793' '30399' ... '-32017' '-30792' '-28826']\n",
      " ['30758' '-30432' '30102' ... '-32383' '-30618' '-29120']]\n"
     ]
    }
   ],
   "source": [
    "filename = 'I-2020-02-05-21-20-50-1k'\n",
    "N = 32\n",
    "\n",
    "with open(filename) as fd:\n",
    "    fd.seek(6)\n",
    "    A = np.asarray([i.strip() for i in islice(fd, N)]).reshape((1, 32))\n",
    "    j=0\n",
    "    for k in range(100):\n",
    "        data = np.asarray([i.strip() for i in islice(fd, N)]).reshape((1, 32))\n",
    "        A = np.append(A, data, axis=0)\n",
    "    print(A)\n",
    "    #data = fd.read(-1)\n",
    "    #print(array)\n",
    "    #for line in fd:\n",
    "    #   print(line)  # Skip timestamp\n",
    "        \n",
    "\n",
    "    \n"
   ]
  },
  {
   "cell_type": "code",
   "execution_count": null,
   "metadata": {},
   "outputs": [],
   "source": []
  },
  {
   "cell_type": "code",
   "execution_count": null,
   "metadata": {},
   "outputs": [],
   "source": []
  },
  {
   "cell_type": "code",
   "execution_count": null,
   "metadata": {},
   "outputs": [],
   "source": []
  },
  {
   "cell_type": "code",
   "execution_count": null,
   "metadata": {},
   "outputs": [],
   "source": []
  },
  {
   "cell_type": "code",
   "execution_count": null,
   "metadata": {},
   "outputs": [],
   "source": []
  },
  {
   "cell_type": "code",
   "execution_count": 122,
   "metadata": {},
   "outputs": [
    {
     "name": "stdout",
     "output_type": "stream",
     "text": [
      "[3544953272692912433]\n"
     ]
    }
   ],
   "source": [
    "dt = np.dtype(np.int64) \n",
    "\n",
    "with open(filename) as fd:\n",
    "    #fd.seek(8, os.SEEK_SET)\n",
    "    raw = np.fromfile(fd, dtype=dt) #=np.int8)\n",
    "    \n",
    "print((raw[0:1]))\n",
    "#print(raw.flags)"
   ]
  },
  {
   "cell_type": "code",
   "execution_count": 118,
   "metadata": {},
   "outputs": [
    {
     "ename": "TypeError",
     "evalue": "array() argument 1 must be a unicode character, not str",
     "output_type": "error",
     "traceback": [
      "\u001b[0;31m---------------------------------------------------------------------------\u001b[0m",
      "\u001b[0;31mTypeError\u001b[0m                                 Traceback (most recent call last)",
      "\u001b[0;32m<ipython-input-118-179d45aaa4ce>\u001b[0m in \u001b[0;36m<module>\u001b[0;34m\u001b[0m\n\u001b[1;32m      1\u001b[0m \u001b[0;31m# Read the first few integers of the file as raw ints with no abstractions in the way\u001b[0m\u001b[0;34m\u001b[0m\u001b[0;34m\u001b[0m\u001b[0;34m\u001b[0m\u001b[0m\n\u001b[0;32m----> 2\u001b[0;31m \u001b[0mdata\u001b[0m \u001b[0;34m=\u001b[0m \u001b[0marray\u001b[0m\u001b[0;34m.\u001b[0m\u001b[0marray\u001b[0m\u001b[0;34m(\u001b[0m\u001b[0;34m\"\"\u001b[0m\u001b[0;34m)\u001b[0m  \u001b[0;31m# signed short\u001b[0m\u001b[0;34m\u001b[0m\u001b[0;34m\u001b[0m\u001b[0m\n\u001b[0m\u001b[1;32m      3\u001b[0m \u001b[0;34m\u001b[0m\u001b[0m\n\u001b[1;32m      4\u001b[0m \u001b[0;32mwith\u001b[0m \u001b[0mopen\u001b[0m\u001b[0;34m(\u001b[0m\u001b[0;34m\"/public/groups/braingeneers/staging/original/Carbon_EAB27_Headstages_64_Channels_int16_2018-12-28_14-55-21.bin\"\u001b[0m\u001b[0;34m,\u001b[0m \u001b[0;34m\"rb\"\u001b[0m\u001b[0;34m)\u001b[0m \u001b[0;32mas\u001b[0m \u001b[0mfd\u001b[0m\u001b[0;34m:\u001b[0m\u001b[0;34m\u001b[0m\u001b[0;34m\u001b[0m\u001b[0m\n\u001b[1;32m      5\u001b[0m     \u001b[0mfd\u001b[0m\u001b[0;34m.\u001b[0m\u001b[0mseek\u001b[0m\u001b[0;34m(\u001b[0m\u001b[0;36m8\u001b[0m\u001b[0;34m,\u001b[0m \u001b[0mos\u001b[0m\u001b[0;34m.\u001b[0m\u001b[0mSEEK_SET\u001b[0m\u001b[0;34m)\u001b[0m  \u001b[0;31m# Skip timestamp\u001b[0m\u001b[0;34m\u001b[0m\u001b[0;34m\u001b[0m\u001b[0m\n",
      "\u001b[0;31mTypeError\u001b[0m: array() argument 1 must be a unicode character, not str"
     ]
    }
   ],
   "source": [
    "\n",
    "# Read the first few integers of the file as raw ints with no abstractions in the way\n",
    "data = array.array(\"\")  # signed short\n",
    "\n",
    "with open(\"/public/groups/braingeneers/staging/original/Carbon_EAB27_Headstages_64_Channels_int16_2018-12-28_14-55-21.bin\", \"rb\") as fd:\n",
    "    fd.seek(8, os.SEEK_SET)  # Skip timestamp\n",
    "    data.fromfile(fd, 8)\n",
    "    \n",
    "data.tolist()\n",
    "\n",
    "\n",
    "\n",
    "\n",
    "data = array.array(\"h\")  # signed short\n",
    "\n",
    "with open(filename) as fd:\n",
    "    #fd.seek(16)  # Skip timestamp\n",
    "    data.fromfile(fd, 8)\n",
    "    \n",
    "data.tolist()\n"
   ]
  }
 ],
 "metadata": {
  "kernelspec": {
   "display_name": "Python 3",
   "language": "python",
   "name": "python3"
  },
  "language_info": {
   "codemirror_mode": {
    "name": "ipython",
    "version": 3
   },
   "file_extension": ".py",
   "mimetype": "text/x-python",
   "name": "python",
   "nbconvert_exporter": "python",
   "pygments_lexer": "ipython3",
   "version": "3.7.3"
  }
 },
 "nbformat": 4,
 "nbformat_minor": 2
}
