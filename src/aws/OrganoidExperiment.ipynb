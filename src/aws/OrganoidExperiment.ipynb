{
  "nbformat": 4,
  "nbformat_minor": 0,
  "metadata": {
    "colab": {
      "name": "OrganoidExperiment.ipynb",
      "version": "0.3.2",
      "provenance": [],
      "collapsed_sections": [
        "BYVOxU4atgKC"
      ],
      "include_colab_link": true
    },
    "kernelspec": {
      "name": "python3",
      "display_name": "Python 3"
    },
    "accelerator": "GPU"
  },
  "cells": [
    {
      "cell_type": "markdown",
      "metadata": {
        "id": "view-in-github",
        "colab_type": "text"
      },
      "source": [
        "<a href=\"https://colab.research.google.com/github/braingeneers/experiment/blob/master/src/aws/OrganoidExperiment.ipynb\" target=\"_parent\"><img src=\"https://colab.research.google.com/assets/colab-badge.svg\" alt=\"Open In Colab\"/></a>"
      ]
    },
    {
      "cell_type": "markdown",
      "metadata": {
        "id": "HccXP734ocCC",
        "colab_type": "text"
      },
      "source": [
        "# <blue> Create Your Organoid Experiment </blue> \n",
        "\n"
      ]
    },
    {
      "cell_type": "markdown",
      "metadata": {
        "id": "BYVOxU4atgKC",
        "colab_type": "text"
      },
      "source": [
        "### Import helper python libraries"
      ]
    },
    {
      "cell_type": "code",
      "metadata": {
        "id": "HEq6Pg_Tjnpp",
        "colab_type": "code",
        "colab": {}
      },
      "source": [
        "from google.colab import files\n",
        "import sys\n",
        "import os\n",
        "import socket\n",
        "import pickle\n",
        "import random\n",
        "import time\n",
        "from datetime import datetime\n",
        "import pytz #convert between timezones\n",
        "from pytz import timezone\n",
        "import json\n",
        "import uuid #generate guids\n",
        "import numpy as np\n",
        "import datetime\n",
        "\n"
      ],
      "execution_count": 0,
      "outputs": []
    },
    {
      "cell_type": "markdown",
      "metadata": {
        "id": "P3mQ_EvVt7zD",
        "colab_type": "text"
      },
      "source": [
        "## 1) Set Experiment Parameters\n",
        "\n"
      ]
    },
    {
      "cell_type": "code",
      "metadata": {
        "id": "pVn7xHBZqF-n",
        "colab_type": "code",
        "cellView": "form",
        "outputId": "ebfcb23a-98b2-4e13-dc85-df577ad5699f",
        "colab": {
          "base_uri": "https://localhost:8080/",
          "height": 34
        }
      },
      "source": [
        "#@title Experiment Parameters { run: \"auto\", vertical-output: true }\n",
        "\n",
        "user_email = 'kvoitiuk@ucsc.edu' #@param {type:\"string\"}\n",
        "\n",
        "#@markdown <br> Would you like to use an organoid that is simulated or real?\n",
        "organoid_type = 'real' #@param [\"simulated\", \"real\"]\n",
        "\n",
        "#@markdown <br> Would you like to configure your experiment beforehand, or perform it in interactive (dynamic) mode?\n",
        "organoid_input = 'configured' #@param [\"configured\", \"dynamic\"]\n",
        "\n",
        "#@markdown ### For dynamic experiments only:\n",
        "#@markdown Please enter the IP address and port of the machine running your interactive program:\n",
        "client_ip = \"\" #@param {type:\"string\"}\n",
        "client_port =  '5006' #@param {type:\"string\"}\n",
        "\n",
        "current_ip = str(socket.gethostbyname(socket.gethostname()))\n",
        "print(\"To use this machine, the IP is:\", current_ip)"
      ],
      "execution_count": 0,
      "outputs": [
        {
          "output_type": "stream",
          "text": [
            "To use this machine, the IP is: 172.28.0.2\n"
          ],
          "name": "stdout"
        }
      ]
    },
    {
      "cell_type": "markdown",
      "metadata": {
        "id": "fTGtslWVoVuW",
        "colab_type": "text"
      },
      "source": [
        "## 2) Auto-Generate Experiment GUID"
      ]
    },
    {
      "cell_type": "code",
      "metadata": {
        "id": "09vZQwPNlTCd",
        "colab_type": "code",
        "outputId": "1d16129a-778e-4942-e28e-a83bd903306c",
        "colab": {
          "base_uri": "https://localhost:8080/",
          "height": 34
        }
      },
      "source": [
        "# Generate the GUID\n",
        "e_guid = str(uuid.uuid4())\n",
        "\n",
        "# Display the GUID\n",
        "print(\"Experiment guid: \", e_guid)"
      ],
      "execution_count": 0,
      "outputs": [
        {
          "output_type": "stream",
          "text": [
            "Experiment guid:  eb5e65ef-fc38-4687-87b2-56dbc44baf3a\n"
          ],
          "name": "stdout"
        }
      ]
    },
    {
      "cell_type": "markdown",
      "metadata": {
        "id": "Ve6iTjsGoOle",
        "colab_type": "text"
      },
      "source": [
        "## 3) Auto-Create Experiment JSON\n",
        "This JSON file will be used to request an experiment with your desired parameters\n"
      ]
    },
    {
      "cell_type": "code",
      "metadata": {
        "id": "S8X72sTKoL_8",
        "colab_type": "code",
        "outputId": "cf6351b2-ac17-4ea9-ce9f-4ed46559153e",
        "colab": {
          "base_uri": "https://localhost:8080/",
          "height": 202
        }
      },
      "source": [
        "# Current time in UTC\n",
        "now_utc = datetime.datetime.now(timezone('UTC'))\n",
        "\n",
        "# Convert to US/Pacific time zone\n",
        "now_pacific = now_utc.astimezone(timezone('US/Pacific'))\n",
        "\n",
        "# Specify date formatting\n",
        "fmt = \"%H:%M:%S %d-%m-%Y %Z%z\" \n",
        "\n",
        "# Make date timestamp\n",
        "localdate_string = now_pacific.strftime(fmt)\n",
        "\n",
        "\n",
        "# Put JSON together\n",
        "data = {\n",
        "\t\"experiment\": {\n",
        "\t\t\"guid\": e_guid,\n",
        "\t\t\"email\": user_email,\n",
        "\t\t\"type\": organoid_type,\n",
        "\t\t\"input\": organoid_input,\n",
        "\t\t\"date\": localdate_string\n",
        "}}\n",
        "\n",
        "# For dynamic experiment, add two more fields\n",
        "if(organoid_input == \"dynamic\"):\n",
        "  data[\"experiment\"][\"client_ip\"] = client_ip\n",
        "  data[\"experiment\"][\"client_port\"] = client_port\n",
        "  \n",
        "  \n",
        "# Save JSON file\n",
        "with open(e_guid + \".json\", 'w') as fp:\n",
        "\t\tjson.dump(data, fp)\n",
        "print(\"Saved!\\n\")\n",
        "    \n",
        "# Display JSON\n",
        "print(json.dumps(data, indent=4))\n",
        "  \n"
      ],
      "execution_count": 0,
      "outputs": [
        {
          "output_type": "stream",
          "text": [
            "Saved!\n",
            "\n",
            "{\n",
            "    \"experiment\": {\n",
            "        \"guid\": \"eb5e65ef-fc38-4687-87b2-56dbc44baf3a\",\n",
            "        \"email\": \"kvoitiuk@ucsc.edu\",\n",
            "        \"type\": \"real\",\n",
            "        \"input\": \"configured\",\n",
            "        \"date\": \"14:29:07 05-03-2019 PST-0800\"\n",
            "    }\n",
            "}\n"
          ],
          "name": "stdout"
        }
      ]
    },
    {
      "cell_type": "code",
      "metadata": {
        "id": "qaV3iHQOLjP0",
        "colab_type": "code",
        "colab": {}
      },
      "source": [
        ""
      ],
      "execution_count": 0,
      "outputs": []
    },
    {
      "cell_type": "markdown",
      "metadata": {
        "id": "2E3MWOEemvGw",
        "colab_type": "text"
      },
      "source": [
        "## 3) Create Stimulation File\n",
        "For configured experiments, please create your numpy stimulation file. <br>\n",
        "Optional for dynamic experiment."
      ]
    },
    {
      "cell_type": "code",
      "metadata": {
        "id": "7S8tRqzomDT5",
        "colab_type": "code",
        "outputId": "1f4b46e9-2da0-4d69-8e4c-e586a12dfb53",
        "colab": {
          "base_uri": "https://localhost:8080/",
          "height": 34
        }
      },
      "source": [
        "# Edit stimulation patterns as: [pattern (0-255), duration (ms)]\t\n",
        "x = np.array([[255, 10], [1, 10], [2, 10], [4, 10], [8, 10], [16, 10], [32, 10], [64, 10], [128, 10], [0, 10], [1, 10], [2, 10], [4, 10], [8, 10], [16, 10], [32, 10], [64, 10], [128, 10], [0, 10], [255, 100]])\n",
        "\t\n",
        "# Name and save numpy file\n",
        "f = e_guid + \".npy\"\n",
        "np.save(f, x)\n",
        "print(\"Saved!\")"
      ],
      "execution_count": 0,
      "outputs": [
        {
          "output_type": "stream",
          "text": [
            "Saved!\n"
          ],
          "name": "stdout"
        }
      ]
    },
    {
      "cell_type": "markdown",
      "metadata": {
        "id": "phl6VPjc9EuO",
        "colab_type": "text"
      },
      "source": [
        "## 4) Download Your Experiment Files\n",
        "...and submit them to the portal: https://www.braingeneers.org/receive/"
      ]
    },
    {
      "cell_type": "code",
      "metadata": {
        "id": "Nr-xhb1Bn1yd",
        "colab_type": "code",
        "colab": {}
      },
      "source": [
        "# Download JSON\n",
        "files.download(e_guid + \".json\")\n",
        "\n",
        "# If numpy file was created, download numpy\n",
        "if (os.path.isfile(e_guid + \".npy\")):\n",
        "   files.download(e_guid + \".npy\")"
      ],
      "execution_count": 0,
      "outputs": []
    }
  ]
}